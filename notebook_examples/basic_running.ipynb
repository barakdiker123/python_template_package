{
 "cells": [
  {
   "cell_type": "code",
   "execution_count": 1,
   "id": "2ebb4f88",
   "metadata": {},
   "outputs": [],
   "source": [
    "import stock_prediction_barakdiker"
   ]
  },
  {
   "cell_type": "code",
   "execution_count": 2,
   "id": "53a2ea35",
   "metadata": {},
   "outputs": [],
   "source": [
    "from stock_prediction_barakdiker.regression_calculator import add_one"
   ]
  },
  {
   "cell_type": "code",
   "execution_count": 3,
   "id": "9cdb9a41",
   "metadata": {},
   "outputs": [
    {
     "data": {
      "text/plain": [
       "2"
      ]
     },
     "execution_count": 3,
     "metadata": {},
     "output_type": "execute_result"
    }
   ],
   "source": [
    "add_one(1)"
   ]
  },
  {
   "cell_type": "code",
   "execution_count": 4,
   "id": "c2494f3a",
   "metadata": {},
   "outputs": [],
   "source": [
    "%load_ext autoreload\n",
    "\n",
    "%autoreload 2"
   ]
  },
  {
   "cell_type": "code",
   "execution_count": null,
   "id": "860070e3",
   "metadata": {},
   "outputs": [],
   "source": []
  }
 ],
 "metadata": {
  "kernelspec": {
   "display_name": "Python 3 (ipykernel)",
   "language": "python",
   "name": "python3"
  },
  "language_info": {
   "codemirror_mode": {
    "name": "ipython",
    "version": 3
   },
   "file_extension": ".py",
   "mimetype": "text/x-python",
   "name": "python",
   "nbconvert_exporter": "python",
   "pygments_lexer": "ipython3",
   "version": "3.11.5"
  }
 },
 "nbformat": 4,
 "nbformat_minor": 5
}
